{
  "nbformat": 4,
  "nbformat_minor": 0,
  "metadata": {
    "colab": {
      "provenance": [],
      "authorship_tag": "ABX9TyODwjvfq7Nn+9Cdqoe8M4lR",
      "include_colab_link": true
    },
    "kernelspec": {
      "name": "python3",
      "display_name": "Python 3"
    },
    "language_info": {
      "name": "python"
    }
  },
  "cells": [
    {
      "cell_type": "markdown",
      "metadata": {
        "id": "view-in-github",
        "colab_type": "text"
      },
      "source": [
        "<a href=\"https://colab.research.google.com/github/zkfxhl/iot-class/blob/main/IOTlec_Seoul_bycicle.ipynb\" target=\"_parent\"><img src=\"https://colab.research.google.com/assets/colab-badge.svg\" alt=\"Open In Colab\"/></a>"
      ]
    },
    {
      "cell_type": "code",
      "execution_count": 20,
      "metadata": {
        "colab": {
          "base_uri": "https://localhost:8080/"
        },
        "id": "I6P01qrsEKqE",
        "outputId": "396fd378-c149-4e77-e6b9-90a6dabe5857"
      },
      "outputs": [
        {
          "output_type": "stream",
          "name": "stdout",
          "text": [
            "{'rentBikeStatus': {'list_total_count': 5, 'RESULT': {'CODE': 'INFO-000', 'MESSAGE': '정상 처리되었습니다.'}, 'row': [{'rackTotCnt': '15', 'stationName': '102. 망원역 1번출구 앞', 'parkingBikeTotCnt': '29', 'shared': '193', 'stationLatitude': '37.55564880', 'stationLongitude': '126.91062927', 'stationId': 'ST-4'}, {'rackTotCnt': '14', 'stationName': '103. 망원역 2번출구 앞', 'parkingBikeTotCnt': '11', 'shared': '79', 'stationLatitude': '37.55495071', 'stationLongitude': '126.91083527', 'stationId': 'ST-5'}, {'rackTotCnt': '13', 'stationName': '104. 합정역 1번출구 앞', 'parkingBikeTotCnt': '5', 'shared': '38', 'stationLatitude': '37.55073929', 'stationLongitude': '126.91508484', 'stationId': 'ST-6'}, {'rackTotCnt': '5', 'stationName': '105. 합정역 5번출구 앞', 'parkingBikeTotCnt': '14', 'shared': '280', 'stationLatitude': '37.55000687', 'stationLongitude': '126.91482544', 'stationId': 'ST-7'}, {'rackTotCnt': '12', 'stationName': '106. 합정역 7번출구 앞', 'parkingBikeTotCnt': '32', 'shared': '267', 'stationLatitude': '37.54864502', 'stationLongitude': '126.91282654', 'stationId': 'ST-8'}]}}\n"
          ]
        }
      ],
      "source": [
        "import requests\n",
        "\n",
        "url = 'http://openapi.seoul.go.kr:8088/59634a66656a656e3130346674616147/json/bikeList/1/5/'\n",
        "\n",
        "response = requests.get(url)\n",
        "print(response.json())"
      ]
    },
    {
      "cell_type": "code",
      "source": [
        "for x in response.json()['rentBikeStatus']['row']:\n",
        "  print('자전거주차총건수: ', x['stationName'], x['parkingBikeTotCnt'])"
      ],
      "metadata": {
        "colab": {
          "base_uri": "https://localhost:8080/"
        },
        "id": "gAchh7veDB3t",
        "outputId": "dbc67d53-fff9-4c9e-d841-26a1607e1686"
      },
      "execution_count": 23,
      "outputs": [
        {
          "output_type": "stream",
          "name": "stdout",
          "text": [
            "자전거주차총건수:  102. 망원역 1번출구 앞 29\n",
            "자전거주차총건수:  103. 망원역 2번출구 앞 11\n",
            "자전거주차총건수:  104. 합정역 1번출구 앞 5\n",
            "자전거주차총건수:  105. 합정역 5번출구 앞 14\n",
            "자전거주차총건수:  106. 합정역 7번출구 앞 32\n"
          ]
        }
      ]
    }
  ]
}