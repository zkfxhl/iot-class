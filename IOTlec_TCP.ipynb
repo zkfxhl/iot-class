{
  "nbformat": 4,
  "nbformat_minor": 0,
  "metadata": {
    "colab": {
      "provenance": [],
      "authorship_tag": "ABX9TyNRq01uK6NhjoShC3fTNzhm",
      "include_colab_link": true
    },
    "kernelspec": {
      "name": "python3",
      "display_name": "Python 3"
    },
    "language_info": {
      "name": "python"
    }
  },
  "cells": [
    {
      "cell_type": "markdown",
      "metadata": {
        "id": "view-in-github",
        "colab_type": "text"
      },
      "source": [
        "<a href=\"https://colab.research.google.com/github/zkfxhl/iot-class/blob/main/IOTlec_TCP.ipynb\" target=\"_parent\"><img src=\"https://colab.research.google.com/assets/colab-badge.svg\" alt=\"Open In Colab\"/></a>"
      ]
    },
    {
      "cell_type": "code",
      "execution_count": 1,
      "metadata": {
        "colab": {
          "base_uri": "https://localhost:8080/"
        },
        "id": "Z7vrgRIDVXrR",
        "outputId": "30b0a36d-9924-4753-9e49-9391f2022664"
      },
      "outputs": [
        {
          "output_type": "stream",
          "name": "stdout",
          "text": [
            "Received HTTP/1.1 400 Bad Request\r\n",
            "Content-Type: text/html; charset=us-ascii\r\n",
            "Date: Fri, 29 Mar 2024 04:32:23 GMT\r\n",
            "Connection: close\r\n",
            "Content-Length: 334\r\n",
            "\r\n",
            "<!DOCTYPE HTML PUBLIC \"-//W3C//DTD HTML 4.01//EN\"\"http://www.w3.org/TR/html4/strict.dtd\">\r\n",
            "<HTML><HEAD><TITLE>Bad Request</TITLE>\r\n",
            "<META HTTP-EQUIV=\"Content-Type\" Content=\"text/html; charset=us-ascii\"></HEAD>\r\n",
            "<BODY><h2>Bad Request - Invalid Hostname</h2>\r\n",
            "<hr><p>HTTP Error 400. The request hostname is invalid.</p>\r\n",
            "</BODY></HTML>\r\n",
            "\n"
          ]
        }
      ],
      "source": [
        "import socket\n",
        "\n",
        "HOST = \"204.79.197.219\"\n",
        "PORT = 80\n",
        "\n",
        "with socket.socket(socket.AF_INET, socket.SOCK_STREAM) as s:\n",
        "  s.connect((HOST, PORT))\n",
        "  s.sendall(b\"GET / HTTP/1.2\\n\\n\")\n",
        "  data = s.recv(1024)\n",
        "\n",
        "print(f\"Received {data.decode('utf-8')}\")"
      ]
    }
  ]
}