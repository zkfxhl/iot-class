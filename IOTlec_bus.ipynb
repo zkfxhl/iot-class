{
  "nbformat": 4,
  "nbformat_minor": 0,
  "metadata": {
    "colab": {
      "provenance": [],
      "authorship_tag": "ABX9TyMOalXDLDLtCRfzSL2xKbkE",
      "include_colab_link": true
    },
    "kernelspec": {
      "name": "python3",
      "display_name": "Python 3"
    },
    "language_info": {
      "name": "python"
    }
  },
  "cells": [
    {
      "cell_type": "markdown",
      "metadata": {
        "id": "view-in-github",
        "colab_type": "text"
      },
      "source": [
        "<a href=\"https://colab.research.google.com/github/zkfxhl/iot-class/blob/main/IOTlec_bus.ipynb\" target=\"_parent\"><img src=\"https://colab.research.google.com/assets/colab-badge.svg\" alt=\"Open In Colab\"/></a>"
      ]
    },
    {
      "cell_type": "code",
      "execution_count": 9,
      "metadata": {
        "id": "ABiN8RkLTma5",
        "colab": {
          "base_uri": "https://localhost:8080/"
        },
        "outputId": "b5bea64d-0f85-4011-fe05-b512543d57bc"
      },
      "outputs": [
        {
          "output_type": "stream",
          "name": "stdout",
          "text": [
            "<?xml version=\"1.0\" encoding=\"UTF-8\" standalone=\"yes\"?><response><comMsgHeader/><msgHeader><queryTime>2024-03-14 18:57:45.031</queryTime><resultCode>0</resultCode><resultMessage>정상적으로 처리되었습니다.</resultMessage></msgHeader><msgBody><busLocationList><endBus>0</endBus><lowPlate>0</lowPlate><plateNo>경기70아6920</plateNo><plateType>3</plateType><remainSeatCnt>31</remainSeatCnt><routeId>204000041</routeId><stationId>206000016</stationId><stationSeq>35</stationSeq></busLocationList><busLocationList><endBus>0</endBus><lowPlate>0</lowPlate><plateNo>경기70아8797</plateNo><plateType>3</plateType><remainSeatCnt>41</remainSeatCnt><routeId>204000041</routeId><stationId>206000014</stationId><stationSeq>38</stationSeq></busLocationList><busLocationList><endBus>0</endBus><lowPlate>0</lowPlate><plateNo>경기70아7334</plateNo><plateType>3</plateType><remainSeatCnt>32</remainSeatCnt><routeId>204000041</routeId><stationId>121000947</stationId><stationSeq>19</stationSeq></busLocationList><busLocationList><endBus>0</endBus><lowPlate>0</lowPlate><plateNo>경기77바8402</plateNo><plateType>3</plateType><remainSeatCnt>0</remainSeatCnt><routeId>204000041</routeId><stationId>277103440</stationId><stationSeq>29</stationSeq></busLocationList><busLocationList><endBus>0</endBus><lowPlate>0</lowPlate><plateNo>경기70아6287</plateNo><plateType>3</plateType><remainSeatCnt>32</remainSeatCnt><routeId>204000041</routeId><stationId>206000018</stationId><stationSeq>32</stationSeq></busLocationList><busLocationList><endBus>0</endBus><lowPlate>0</lowPlate><plateNo>경기77바1075</plateNo><plateType>3</plateType><remainSeatCnt>42</remainSeatCnt><routeId>204000041</routeId><stationId>206000002</stationId><stationSeq>11</stationSeq></busLocationList><busLocationList><endBus>0</endBus><lowPlate>0</lowPlate><plateNo>경기70아8893</plateNo><plateType>3</plateType><remainSeatCnt>37</remainSeatCnt><routeId>204000041</routeId><stationId>206000006</stationId><stationSeq>6</stationSeq></busLocationList><busLocationList><endBus>0</endBus><lowPlate>0</lowPlate><plateNo>경기70아7335</plateNo><plateType>3</plateType><remainSeatCnt>37</remainSeatCnt><routeId>204000041</routeId><stationId>277104177</stationId><stationSeq>15</stationSeq></busLocationList><busLocationList><endBus>0</endBus><lowPlate>0</lowPlate><plateNo>경기70아6919</plateNo><plateType>3</plateType><remainSeatCnt>9</remainSeatCnt><routeId>204000041</routeId><stationId>121000007</stationId><stationSeq>22</stationSeq></busLocationList><busLocationList><endBus>0</endBus><lowPlate>0</lowPlate><plateNo>경기77바2428</plateNo><plateType>3</plateType><remainSeatCnt>36</remainSeatCnt><routeId>204000041</routeId><stationId>121000086</stationId><stationSeq>18</stationSeq></busLocationList></msgBody></response>\n"
          ]
        }
      ],
      "source": [
        "import requests\n",
        "url='http://openapi.gbis.go.kr/ws/rest/buslocationservice?serviceKey=1234567890&routeId=204000041'\n",
        "r=requests.get(url)\n",
        "print(r.text)"
      ]
    },
    {
      "cell_type": "code",
      "source": [
        "from bs4 import BeautifulSoup\n",
        "soup = BeautifulSoup(r.text, features=\"xml\")"
      ],
      "metadata": {
        "id": "Nt1a1SydWi67"
      },
      "execution_count": 10,
      "outputs": []
    },
    {
      "cell_type": "code",
      "source": [
        "soup.find_all('stationId')"
      ],
      "metadata": {
        "colab": {
          "base_uri": "https://localhost:8080/"
        },
        "id": "YXzSMObtW4Pf",
        "outputId": "7f968cfb-85d2-4aeb-c153-3f49488fceff"
      },
      "execution_count": 11,
      "outputs": [
        {
          "output_type": "execute_result",
          "data": {
            "text/plain": [
              "[<stationId>206000016</stationId>,\n",
              " <stationId>206000014</stationId>,\n",
              " <stationId>121000947</stationId>,\n",
              " <stationId>277103440</stationId>,\n",
              " <stationId>206000018</stationId>,\n",
              " <stationId>206000002</stationId>,\n",
              " <stationId>206000006</stationId>,\n",
              " <stationId>277104177</stationId>,\n",
              " <stationId>121000007</stationId>,\n",
              " <stationId>121000086</stationId>]"
            ]
          },
          "metadata": {},
          "execution_count": 11
        }
      ]
    },
    {
      "cell_type": "code",
      "source": [
        "print('학번=',2467025,'이름=','정지혜')"
      ],
      "metadata": {
        "colab": {
          "base_uri": "https://localhost:8080/"
        },
        "id": "rqc17N9NZWSI",
        "outputId": "035e7289-9762-4d04-af8e-ad04e5a19868"
      },
      "execution_count": 12,
      "outputs": [
        {
          "output_type": "stream",
          "name": "stdout",
          "text": [
            "학번= 2467025 이름= 정지혜\n"
          ]
        }
      ]
    }
  ]
}