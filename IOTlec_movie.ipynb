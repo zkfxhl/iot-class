{
  "nbformat": 4,
  "nbformat_minor": 0,
  "metadata": {
    "colab": {
      "provenance": [],
      "authorship_tag": "ABX9TyOFymYu8mVUWsPeLlfEKUt4",
      "include_colab_link": true
    },
    "kernelspec": {
      "name": "python3",
      "display_name": "Python 3"
    },
    "language_info": {
      "name": "python"
    }
  },
  "cells": [
    {
      "cell_type": "markdown",
      "metadata": {
        "id": "view-in-github",
        "colab_type": "text"
      },
      "source": [
        "<a href=\"https://colab.research.google.com/github/zkfxhl/iot-class/blob/main/IOTlec_movie.ipynb\" target=\"_parent\"><img src=\"https://colab.research.google.com/assets/colab-badge.svg\" alt=\"Open In Colab\"/></a>"
      ]
    },
    {
      "cell_type": "code",
      "execution_count": 1,
      "metadata": {
        "colab": {
          "base_uri": "https://localhost:8080/"
        },
        "id": "f6ZHL3bgZqW8",
        "outputId": "2413c871-25cb-47aa-d67a-6eef14860bce"
      },
      "outputs": [
        {
          "output_type": "stream",
          "name": "stdout",
          "text": [
            "<?xml version=\"1.0\" encoding=\"utf-8\" standalone=\"yes\"?><boxOfficeResult><boxofficeType>일별 박스오피스</boxofficeType><showRange>20240313~20240313</showRange><dailyBoxOfficeList><dailyBoxOffice><rnum>1</rnum><rank>1</rank><rankInten>0</rankInten><rankOldAndNew>OLD</rankOldAndNew><movieCd>20234675</movieCd><movieNm>파묘</movieNm><openDt>2024-02-22</openDt><salesAmt>1072344620</salesAmt><salesShare>57.4</salesShare><salesInten>-83715510</salesInten><salesChange>-7.2</salesChange><salesAcc>81022828955</salesAcc><audiCnt>113410</audiCnt><audiInten>-8524</audiInten><audiChange>-7</audiChange><audiAcc>8412550</audiAcc><scrnCnt>1735</scrnCnt><showCnt>6422</showCnt></dailyBoxOffice><dailyBoxOffice><rnum>2</rnum><rank>2</rank><rankInten>0</rankInten><rankOldAndNew>OLD</rankOldAndNew><movieCd>20236295</movieCd><movieNm>듄: 파트2</movieNm><openDt>2024-02-28</openDt><salesAmt>333019152</salesAmt><salesShare>17.8</salesShare><salesInten>-1657620</salesInten><salesChange>-0.5</salesChange><salesAcc>15570064785</salesAcc><audiCnt>27427</audiCnt><audiInten>32</audiInten><audiChange>0.1</audiChange><audiAcc>1368746</audiAcc><scrnCnt>818</scrnCnt><showCnt>1895</showCnt></dailyBoxOffice><dailyBoxOffice><rnum>3</rnum><rank>3</rank><rankInten>0</rankInten><rankOldAndNew>NEW</rankOldAndNew><movieCd>20236488</movieCd><movieNm>밥 말리: 원 러브</movieNm><openDt>2024-03-13</openDt><salesAmt>82549952</salesAmt><salesShare>4.4</salesShare><salesInten>82549952</salesInten><salesChange>100</salesChange><salesAcc>93618952</salesAcc><audiCnt>9496</audiCnt><audiInten>9496</audiInten><audiChange>100</audiChange><audiAcc>10489</audiAcc><scrnCnt>579</scrnCnt><showCnt>1223</showCnt></dailyBoxOffice><dailyBoxOffice><rnum>4</rnum><rank>4</rank><rankInten>0</rankInten><rankOldAndNew>NEW</rankOldAndNew><movieCd>20247053</movieCd><movieNm>메이 디셈버</movieNm><openDt>2024-03-13</openDt><salesAmt>67206348</salesAmt><salesShare>3.6</salesShare><salesInten>67206348</salesInten><salesChange>100</salesChange><salesAcc>120978111</salesAcc><audiCnt>7904</audiCnt><audiInten>7904</audiInten><audiChange>100</audiChange><audiAcc>12879</audiAcc><scrnCnt>400</scrnCnt><showCnt>591</showCnt></dailyBoxOffice><dailyBoxOffice><rnum>5</rnum><rank>5</rank><rankInten>12</rankInten><rankOldAndNew>OLD</rankOldAndNew><movieCd>20247782</movieCd><movieNm>랜드 오브 배드</movieNm><openDt>2024-03-13</openDt><salesAmt>40890555</salesAmt><salesShare>2.2</salesShare><salesInten>38316555</salesInten><salesChange>1488.6</salesChange><salesAcc>46804555</salesAcc><audiCnt>5370</audiCnt><audiInten>5084</audiInten><audiChange>1777.6</audiChange><audiAcc>6010</audiAcc><scrnCnt>386</scrnCnt><showCnt>680</showCnt></dailyBoxOffice><dailyBoxOffice><rnum>6</rnum><rank>6</rank><rankInten>-3</rankInten><rankOldAndNew>OLD</rankOldAndNew><movieCd>20236732</movieCd><movieNm>가여운 것들</movieNm><openDt>2024-03-06</openDt><salesAmt>42050505</salesAmt><salesShare>2.2</salesShare><salesInten>-23392199</salesInten><salesChange>-35.7</salesChange><salesAcc>826343531</salesAcc><audiCnt>4292</audiCnt><audiInten>-2499</audiInten><audiChange>-36.8</audiChange><audiAcc>83394</audiAcc><scrnCnt>281</scrnCnt><showCnt>385</showCnt></dailyBoxOffice><dailyBoxOffice><rnum>7</rnum><rank>7</rank><rankInten>-3</rankInten><rankOldAndNew>OLD</rankOldAndNew><movieCd>20234789</movieCd><movieNm>패스트 라이브즈</movieNm><openDt>2024-03-06</openDt><salesAmt>34194456</salesAmt><salesShare>1.8</salesShare><salesInten>-20569189</salesInten><salesChange>-37.6</salesChange><salesAcc>630814368</salesAcc><audiCnt>3603</audiCnt><audiInten>-2768</audiInten><audiChange>-43.4</audiChange><audiAcc>70751</audiAcc><scrnCnt>308</scrnCnt><showCnt>486</showCnt></dailyBoxOffice><dailyBoxOffice><rnum>8</rnum><rank>8</rank><rankInten>0</rankInten><rankOldAndNew>NEW</rankOldAndNew><movieCd>20247198</movieCd><movieNm>마담 웹</movieNm><openDt>2024-03-13</openDt><salesAmt>33235521</salesAmt><salesShare>1.8</salesShare><salesInten>33235521</salesInten><salesChange>100</salesChange><salesAcc>35107521</salesAcc><audiCnt>3586</audiCnt><audiInten>3586</audiInten><audiChange>100</audiChange><audiAcc>3794</audiAcc><scrnCnt>648</scrnCnt><showCnt>1055</showCnt></dailyBoxOffice><dailyBoxOffice><rnum>9</rnum><rank>9</rank><rankInten>0</rankInten><rankOldAndNew>NEW</rankOldAndNew><movieCd>19980003</movieCd><movieNm>태양은 없다</movieNm><openDt>1999-01-01</openDt><salesAmt>16139200</salesAmt><salesShare>0.9</salesShare><salesInten>16139200</salesInten><salesChange>100</salesChange><salesAcc>24874900</salesAcc><audiCnt>2288</audiCnt><audiInten>2288</audiInten><audiChange>100</audiChange><audiAcc>3371</audiAcc><scrnCnt>83</scrnCnt><showCnt>147</showCnt></dailyBoxOffice><dailyBoxOffice><rnum>10</rnum><rank>10</rank><rankInten>-5</rankInten><rankOldAndNew>OLD</rankOldAndNew><movieCd>20236180</movieCd><movieNm>웡카</movieNm><openDt>2024-01-31</openDt><salesAmt>21620807</salesAmt><salesShare>1.2</salesShare><salesInten>-22427195</salesInten><salesChange>-50.9</salesChange><salesAcc>32867674970</salesAcc><audiCnt>2253</audiCnt><audiInten>-2377</audiInten><audiChange>-51.3</audiChange><audiAcc>3418291</audiAcc><scrnCnt>237</scrnCnt><showCnt>312</showCnt></dailyBoxOffice></dailyBoxOfficeList></boxOfficeResult>\n"
          ]
        }
      ],
      "source": [
        "import requests\n",
        "from bs4 import BeautifulSoup\n",
        "\n",
        "r=requests.get('https://www.kobis.or.kr/kobisopenapi/webservice/rest/boxoffice/searchDailyBoxOfficeList.xml?key=a8e4fbca9383206c94d3998d2a202832&targetDt=20240313')\n",
        "print(r.text)"
      ]
    },
    {
      "cell_type": "code",
      "source": [
        "soup=BeautifulSoup(r.text, features=\"xml\")"
      ],
      "metadata": {
        "id": "-nIuhVh9mWix"
      },
      "execution_count": 2,
      "outputs": []
    },
    {
      "cell_type": "code",
      "source": [
        "soup.find_all('movieNm')"
      ],
      "metadata": {
        "colab": {
          "base_uri": "https://localhost:8080/"
        },
        "id": "Na2di1j9miT4",
        "outputId": "edf4d389-3fa1-4825-fa7c-388d9ec5c2f5"
      },
      "execution_count": 3,
      "outputs": [
        {
          "output_type": "execute_result",
          "data": {
            "text/plain": [
              "[<movieNm>파묘</movieNm>,\n",
              " <movieNm>듄: 파트2</movieNm>,\n",
              " <movieNm>밥 말리: 원 러브</movieNm>,\n",
              " <movieNm>메이 디셈버</movieNm>,\n",
              " <movieNm>랜드 오브 배드</movieNm>,\n",
              " <movieNm>가여운 것들</movieNm>,\n",
              " <movieNm>패스트 라이브즈</movieNm>,\n",
              " <movieNm>마담 웹</movieNm>,\n",
              " <movieNm>태양은 없다</movieNm>,\n",
              " <movieNm>웡카</movieNm>]"
            ]
          },
          "metadata": {},
          "execution_count": 3
        }
      ]
    },
    {
      "cell_type": "code",
      "source": [
        "soup.find_all('audiCnt')"
      ],
      "metadata": {
        "colab": {
          "base_uri": "https://localhost:8080/"
        },
        "id": "W5W9jaStmpQT",
        "outputId": "25599991-07ba-4cbd-c0e5-b22b225f1197"
      },
      "execution_count": 4,
      "outputs": [
        {
          "output_type": "execute_result",
          "data": {
            "text/plain": [
              "[<audiCnt>113410</audiCnt>,\n",
              " <audiCnt>27427</audiCnt>,\n",
              " <audiCnt>9496</audiCnt>,\n",
              " <audiCnt>7904</audiCnt>,\n",
              " <audiCnt>5370</audiCnt>,\n",
              " <audiCnt>4292</audiCnt>,\n",
              " <audiCnt>3603</audiCnt>,\n",
              " <audiCnt>3586</audiCnt>,\n",
              " <audiCnt>2288</audiCnt>,\n",
              " <audiCnt>2253</audiCnt>]"
            ]
          },
          "metadata": {},
          "execution_count": 4
        }
      ]
    }
  ]
}